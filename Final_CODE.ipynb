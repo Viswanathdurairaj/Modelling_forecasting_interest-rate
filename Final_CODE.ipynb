{
 "cells": [
  {
   "cell_type": "code",
   "execution_count": 1,
   "id": "1e01ef19",
   "metadata": {},
   "outputs": [],
   "source": [
    "#importing the library:\n",
    "\n",
    "import pandas as pd \n",
    "import numpy as np\n",
    "from sklearn.linear_model import LinearRegression\n",
    "import matplotlib.pyplot as plt\n",
    "from scipy.stats import gmean"
   ]
  },
  {
   "cell_type": "code",
   "execution_count": 2,
   "id": "8e325422",
   "metadata": {
    "scrolled": false
   },
   "outputs": [
    {
     "data": {
      "text/html": [
       "<div>\n",
       "<style scoped>\n",
       "    .dataframe tbody tr th:only-of-type {\n",
       "        vertical-align: middle;\n",
       "    }\n",
       "\n",
       "    .dataframe tbody tr th {\n",
       "        vertical-align: top;\n",
       "    }\n",
       "\n",
       "    .dataframe thead th {\n",
       "        text-align: right;\n",
       "    }\n",
       "</style>\n",
       "<table border=\"1\" class=\"dataframe\">\n",
       "  <thead>\n",
       "    <tr style=\"text-align: right;\">\n",
       "      <th></th>\n",
       "      <th>Year</th>\n",
       "      <th>x1</th>\n",
       "      <th>x2</th>\n",
       "      <th>x3</th>\n",
       "      <th>Interest_rate_prediction</th>\n",
       "    </tr>\n",
       "  </thead>\n",
       "  <tbody>\n",
       "    <tr>\n",
       "      <th>0</th>\n",
       "      <td>2020.3</td>\n",
       "      <td>3.234324</td>\n",
       "      <td>2.430295</td>\n",
       "      <td>0.009248</td>\n",
       "      <td>17.661873</td>\n",
       "    </tr>\n",
       "    <tr>\n",
       "      <th>1</th>\n",
       "      <td>2020.4</td>\n",
       "      <td>3.011564</td>\n",
       "      <td>-0.694655</td>\n",
       "      <td>0.504942</td>\n",
       "      <td>16.984981</td>\n",
       "    </tr>\n",
       "    <tr>\n",
       "      <th>2</th>\n",
       "      <td>2021.1</td>\n",
       "      <td>2.746925</td>\n",
       "      <td>-1.452865</td>\n",
       "      <td>-0.037252</td>\n",
       "      <td>16.984981</td>\n",
       "    </tr>\n",
       "    <tr>\n",
       "      <th>3</th>\n",
       "      <td>2021.2</td>\n",
       "      <td>2.184097</td>\n",
       "      <td>-0.243849</td>\n",
       "      <td>-0.257889</td>\n",
       "      <td>17.951970</td>\n",
       "    </tr>\n",
       "    <tr>\n",
       "      <th>4</th>\n",
       "      <td>2021.3</td>\n",
       "      <td>0.678313</td>\n",
       "      <td>-0.500981</td>\n",
       "      <td>0.274240</td>\n",
       "      <td>17.275078</td>\n",
       "    </tr>\n",
       "    <tr>\n",
       "      <th>5</th>\n",
       "      <td>2021.4</td>\n",
       "      <td>-0.576878</td>\n",
       "      <td>0.509237</td>\n",
       "      <td>-0.349859</td>\n",
       "      <td>16.984981</td>\n",
       "    </tr>\n",
       "    <tr>\n",
       "      <th>6</th>\n",
       "      <td>2022.1</td>\n",
       "      <td>-2.058274</td>\n",
       "      <td>0.260088</td>\n",
       "      <td>0.685540</td>\n",
       "      <td>16.984981</td>\n",
       "    </tr>\n",
       "    <tr>\n",
       "      <th>7</th>\n",
       "      <td>2022.2</td>\n",
       "      <td>-1.790232</td>\n",
       "      <td>0.190032</td>\n",
       "      <td>0.415054</td>\n",
       "      <td>16.970458</td>\n",
       "    </tr>\n",
       "    <tr>\n",
       "      <th>8</th>\n",
       "      <td>2022.3</td>\n",
       "      <td>-1.558508</td>\n",
       "      <td>0.121498</td>\n",
       "      <td>0.197024</td>\n",
       "      <td>16.956414</td>\n",
       "    </tr>\n",
       "    <tr>\n",
       "      <th>9</th>\n",
       "      <td>2022.4</td>\n",
       "      <td>-1.357031</td>\n",
       "      <td>0.054553</td>\n",
       "      <td>0.022225</td>\n",
       "      <td>16.942833</td>\n",
       "    </tr>\n",
       "    <tr>\n",
       "      <th>10</th>\n",
       "      <td>2023.1</td>\n",
       "      <td>-1.180773</td>\n",
       "      <td>-0.010755</td>\n",
       "      <td>-0.116966</td>\n",
       "      <td>16.929701</td>\n",
       "    </tr>\n",
       "    <tr>\n",
       "      <th>11</th>\n",
       "      <td>2023.2</td>\n",
       "      <td>-1.025576</td>\n",
       "      <td>-0.074396</td>\n",
       "      <td>-0.226846</td>\n",
       "      <td>16.917003</td>\n",
       "    </tr>\n",
       "    <tr>\n",
       "      <th>12</th>\n",
       "      <td>2023.3</td>\n",
       "      <td>-0.887997</td>\n",
       "      <td>-0.136355</td>\n",
       "      <td>-0.312617</td>\n",
       "      <td>16.904724</td>\n",
       "    </tr>\n",
       "    <tr>\n",
       "      <th>13</th>\n",
       "      <td>2023.4</td>\n",
       "      <td>-0.765183</td>\n",
       "      <td>-0.196627</td>\n",
       "      <td>-0.378575</td>\n",
       "      <td>16.892850</td>\n",
       "    </tr>\n",
       "    <tr>\n",
       "      <th>14</th>\n",
       "      <td>2024.1</td>\n",
       "      <td>-0.654772</td>\n",
       "      <td>-0.255219</td>\n",
       "      <td>-0.428270</td>\n",
       "      <td>16.881368</td>\n",
       "    </tr>\n",
       "  </tbody>\n",
       "</table>\n",
       "</div>"
      ],
      "text/plain": [
       "      Year        x1        x2        x3  Interest_rate_prediction\n",
       "0   2020.3  3.234324  2.430295  0.009248                 17.661873\n",
       "1   2020.4  3.011564 -0.694655  0.504942                 16.984981\n",
       "2   2021.1  2.746925 -1.452865 -0.037252                 16.984981\n",
       "3   2021.2  2.184097 -0.243849 -0.257889                 17.951970\n",
       "4   2021.3  0.678313 -0.500981  0.274240                 17.275078\n",
       "5   2021.4 -0.576878  0.509237 -0.349859                 16.984981\n",
       "6   2022.1 -2.058274  0.260088  0.685540                 16.984981\n",
       "7   2022.2 -1.790232  0.190032  0.415054                 16.970458\n",
       "8   2022.3 -1.558508  0.121498  0.197024                 16.956414\n",
       "9   2022.4 -1.357031  0.054553  0.022225                 16.942833\n",
       "10  2023.1 -1.180773 -0.010755 -0.116966                 16.929701\n",
       "11  2023.2 -1.025576 -0.074396 -0.226846                 16.917003\n",
       "12  2023.3 -0.887997 -0.136355 -0.312617                 16.904724\n",
       "13  2023.4 -0.765183 -0.196627 -0.378575                 16.892850\n",
       "14  2024.1 -0.654772 -0.255219 -0.428270                 16.881368"
      ]
     },
     "execution_count": 2,
     "metadata": {},
     "output_type": "execute_result"
    }
   ],
   "source": [
    "#importing the dataset:\n",
    "\n",
    "GDP = pd.read_csv('GDP.csv', sep = ',')\n",
    "unemployment = pd.read_csv('unemployment.csv', sep = ',')\n",
    "Inflation = pd.read_csv('Wage inflection.csv', sep = ',')\n",
    "credit_card = pd.read_csv('Credit card.csv', sep = ',')\n",
    "Demo = pd.read_csv('DEMO.csv',sep=',')\n",
    "interest = pd.read_csv('CFMHSDG  Bank of England  Database.csv',sep=',')\n",
    "Avg_wkly_earnings = pd.read_csv('Average weekly earnings.csv',sep=',')\n",
    "New = pd.read_csv('New_Dataframe.csv',sep=',')\n",
    "ARIMA_PCA = pd.read_csv('PCA_AIRMA.csv',sep=',')\n",
    "ARIMA_PCA"
   ]
  },
  {
   "cell_type": "code",
   "execution_count": 3,
   "id": "8b71e783",
   "metadata": {},
   "outputs": [
    {
     "data": {
      "text/html": [
       "<div>\n",
       "<style scoped>\n",
       "    .dataframe tbody tr th:only-of-type {\n",
       "        vertical-align: middle;\n",
       "    }\n",
       "\n",
       "    .dataframe tbody tr th {\n",
       "        vertical-align: top;\n",
       "    }\n",
       "\n",
       "    .dataframe thead th {\n",
       "        text-align: right;\n",
       "    }\n",
       "</style>\n",
       "<table border=\"1\" class=\"dataframe\">\n",
       "  <thead>\n",
       "    <tr style=\"text-align: right;\">\n",
       "      <th></th>\n",
       "      <th>Period</th>\n",
       "      <th>Total pay</th>\n",
       "      <th>Regular pay</th>\n",
       "    </tr>\n",
       "  </thead>\n",
       "  <tbody>\n",
       "    <tr>\n",
       "      <th>0</th>\n",
       "      <td>Jan-00</td>\n",
       "      <td>307</td>\n",
       "      <td>293</td>\n",
       "    </tr>\n",
       "    <tr>\n",
       "      <th>1</th>\n",
       "      <td>Feb-00</td>\n",
       "      <td>300</td>\n",
       "      <td>293</td>\n",
       "    </tr>\n",
       "    <tr>\n",
       "      <th>2</th>\n",
       "      <td>Mar-00</td>\n",
       "      <td>310</td>\n",
       "      <td>293</td>\n",
       "    </tr>\n",
       "    <tr>\n",
       "      <th>3</th>\n",
       "      <td>Apr-00</td>\n",
       "      <td>310</td>\n",
       "      <td>293</td>\n",
       "    </tr>\n",
       "    <tr>\n",
       "      <th>4</th>\n",
       "      <td>May-00</td>\n",
       "      <td>312</td>\n",
       "      <td>294</td>\n",
       "    </tr>\n",
       "    <tr>\n",
       "      <th>...</th>\n",
       "      <td>...</td>\n",
       "      <td>...</td>\n",
       "      <td>...</td>\n",
       "    </tr>\n",
       "    <tr>\n",
       "      <th>260</th>\n",
       "      <td>Sep-21</td>\n",
       "      <td>584</td>\n",
       "      <td>546</td>\n",
       "    </tr>\n",
       "    <tr>\n",
       "      <th>261</th>\n",
       "      <td>Oct-21</td>\n",
       "      <td>586</td>\n",
       "      <td>548</td>\n",
       "    </tr>\n",
       "    <tr>\n",
       "      <th>262</th>\n",
       "      <td>Nov-21</td>\n",
       "      <td>590</td>\n",
       "      <td>550</td>\n",
       "    </tr>\n",
       "    <tr>\n",
       "      <th>263</th>\n",
       "      <td>Dec-21</td>\n",
       "      <td>600</td>\n",
       "      <td>553</td>\n",
       "    </tr>\n",
       "    <tr>\n",
       "      <th>264</th>\n",
       "      <td>Jan-22</td>\n",
       "      <td>596</td>\n",
       "      <td>555</td>\n",
       "    </tr>\n",
       "  </tbody>\n",
       "</table>\n",
       "<p>265 rows × 3 columns</p>\n",
       "</div>"
      ],
      "text/plain": [
       "     Period  Total pay  Regular pay\n",
       "0    Jan-00        307          293\n",
       "1    Feb-00        300          293\n",
       "2    Mar-00        310          293\n",
       "3    Apr-00        310          293\n",
       "4    May-00        312          294\n",
       "..      ...        ...          ...\n",
       "260  Sep-21        584          546\n",
       "261  Oct-21        586          548\n",
       "262  Nov-21        590          550\n",
       "263  Dec-21        600          553\n",
       "264  Jan-22        596          555\n",
       "\n",
       "[265 rows x 3 columns]"
      ]
     },
     "execution_count": 3,
     "metadata": {},
     "output_type": "execute_result"
    }
   ],
   "source": [
    "Avg_wkly_earnings "
   ]
  },
  {
   "cell_type": "code",
   "execution_count": null,
   "id": "66a3b256",
   "metadata": {},
   "outputs": [],
   "source": [
    "#changing the column of Credit_card:\n",
    "\n",
    "credit_card = credit_card.rename(columns={'Monthly amount of total sterling credit card gross lending to individuals (in sterling millions) seasonally adjusted                          LPMVZQO': 'Credit_card'})\n",
    "credit_card"
   ]
  },
  {
   "cell_type": "code",
   "execution_count": null,
   "id": "d6d972f1",
   "metadata": {},
   "outputs": [],
   "source": [
    "#filtering the wage_inflection,change the column name and reseting the index:\n",
    "\n",
    "Inflation = Inflation[Inflation['Title'].str.contains('20')]\n",
    "Inflation = Inflation[Inflation['Title'].str.contains('Q')]\n",
    "Inflation = Inflation.rename(columns={'CPIH ANNUAL RATE 00: ALL ITEMS 2015=100': 'Inflation'})\n",
    "Inflation = Inflation.rename(columns={'Title': 'Year'})\n",
    "Inflation = Inflation.reset_index(drop=True)\n",
    "Inflation"
   ]
  },
  {
   "cell_type": "code",
   "execution_count": null,
   "id": "0f813de6",
   "metadata": {},
   "outputs": [],
   "source": [
    "#filtering the unemployment,changing the column and reseting the index:\n",
    "\n",
    "unemployment = unemployment[unemployment['Title'].str.contains('20')]\n",
    "unemployment = unemployment[unemployment['Title'].str.contains('Q')]\n",
    "unemployment = unemployment.rename(columns={'Unemployment rate (aged 16 and over, seasonally adjusted)': 'Unemployment'})\n",
    "unemployment = unemployment.rename(columns={'Title': 'Year'})\n",
    "unemployment = unemployment.reset_index(drop=True)\n",
    "#unemployment = unemployment['Unemployment'].astype(\"float\")\n",
    "unemployment"
   ]
  },
  {
   "cell_type": "code",
   "execution_count": null,
   "id": "fba4aa34",
   "metadata": {},
   "outputs": [],
   "source": [
    "#filtering the unemployment,changing the column and reseting the index:\n",
    "\n",
    "GDP = GDP[GDP['Title'].str.contains('20')]\n",
    "GDP = GDP[GDP['Title'].str.contains('Q')]\n",
    "GDP = GDP.rename(columns={'Gross Domestic Product: Quarter on Quarter growth: CVM SA %': 'GDP'})\n",
    "GDP = GDP.rename(columns={'Title': 'Year'})\n",
    "GDP = GDP.reset_index(drop =True)\n",
    "GDP"
   ]
  },
  {
   "cell_type": "code",
   "execution_count": null,
   "id": "43f6f13a",
   "metadata": {},
   "outputs": [],
   "source": [
    "#Merging the all dataset into one:\n",
    "\n",
    "New_Dataframe = pd.merge(GDP,unemployment)\n",
    "New_Dataframe = pd.merge(New_Dataframe,Inflation)\n",
    "New_Dataframe"
   ]
  },
  {
   "cell_type": "code",
   "execution_count": null,
   "id": "bdca751a",
   "metadata": {},
   "outputs": [],
   "source": [
    "# For the Interest_rate data converting the into int:\n",
    "\n",
    "interest['Interest_rate'] = interest['Interest_rate'].apply(np.int64)"
   ]
  },
  {
   "cell_type": "code",
   "execution_count": null,
   "id": "2cf0c9a9",
   "metadata": {},
   "outputs": [],
   "source": [
    "#checking the datatype:\n",
    "\n",
    "interest['Interest_rate'].dtypes"
   ]
  },
  {
   "cell_type": "code",
   "execution_count": null,
   "id": "59c6130d",
   "metadata": {},
   "outputs": [],
   "source": [
    "##structuring the interest dataset and append into Merged dataframe:\n",
    "\n",
    "counter = 0\n",
    "val = 0\n",
    "Inter = []\n",
    "intrset = []\n",
    "for i in range(0,len(interest['Interest_rate'])-1,1):\n",
    "    counter +=1;\n",
    "    intrset.append(interest['Interest_rate'][i])\n",
    "    if counter == 3:\n",
    "        val = (gmean(intrset)).round(2)\n",
    "        Inter.append(val)\n",
    "        counter = 0\n",
    "        val = 0\n",
    "        intrset = []\n",
    "New_Dataframe['Interest_rate']=Inter\n",
    "New_Dataframe"
   ]
  },
  {
   "cell_type": "code",
   "execution_count": null,
   "id": "43b3ab83",
   "metadata": {},
   "outputs": [],
   "source": [
    "#structuring the Avg_weekly earning dataset and append into Merged dataframe:\n",
    "\n",
    "counter = 0\n",
    "val = 0\n",
    "avg_wkly = []\n",
    "for i in range(len(Avg_wkly_earnings['Total pay'])):\n",
    "    counter +=1;\n",
    "    val += Avg_wkly_earnings['Total pay'][i]\n",
    "    if counter == 3:\n",
    "        val = (val/3).round()\n",
    "        avg_wkly.append(val)\n",
    "        counter = 0\n",
    "        val = 0\n",
    "New_Dataframe['Income']=avg_wkly\n",
    "New_Dataframe"
   ]
  },
  {
   "cell_type": "code",
   "execution_count": null,
   "id": "b4afe2dc",
   "metadata": {},
   "outputs": [],
   "source": [
    "#structuring the credit dataset and append into Merged dataframe:\n",
    "\n",
    "counter = 0\n",
    "val = 0\n",
    "credit_DB = []\n",
    "for i in range(len(credit_card['Credit_card'])-1,0,-1):\n",
    "    counter +=1;\n",
    "    val += credit_card['Credit_card'][i]\n",
    "    if counter == 3:\n",
    "        val = (val/3).round()\n",
    "        credit_DB.append(val)\n",
    "        counter = 0\n",
    "        val = 0\n",
    "New_Dataframe['Credit_card']=credit_DB\n",
    "#New_Dataframe['Credit_card']=np.divide(New_Dataframe['Credit_card'],New_Dataframe['Income'])\n",
    "New_Dataframe"
   ]
  },
  {
   "cell_type": "code",
   "execution_count": null,
   "id": "69b7d0c7",
   "metadata": {},
   "outputs": [],
   "source": [
    "New_Dataframe = New_Dataframe.astype({'Unemployment':'float', 'Inflation':'float', 'GDP':'float'})"
   ]
  },
  {
   "cell_type": "code",
   "execution_count": null,
   "id": "21e5d531",
   "metadata": {},
   "outputs": [],
   "source": [
    "column_types = dict(New_Dataframe.dtypes)\n",
    "column_types"
   ]
  },
  {
   "cell_type": "markdown",
   "id": "e5939b56",
   "metadata": {},
   "source": [
    "fig = plt.figure(figsize=(20,10))\n",
    "Graph_100 = fig.add_subplot()\n",
    "Graph_100.plot(Data_Aus_100.Day_count, Data_Aus_100.Cumulative_cases,  label=\"Austria\")\n",
    "Graph_100.plot(Data_SA_100.Day_count, Data_SA_100.Cumulative_cases,   label=\"South Africa\" )\n",
    "Graph_100.plot(Data_India_100.Day_count, Data_India_100.Cumulative_cases, label=\"India\" )\n",
    "Graph_100.legend(bbox_to_anchor=(1,1), loc=\"upper left\")\n",
    "plt.grid()\n",
    "plt.xlabel(\"Day_count\",fontsize=20)\n",
    "plt.ylabel(\"Cumulative_cases\", fontsize=20)\n",
    "\n"
   ]
  },
  {
   "cell_type": "code",
   "execution_count": null,
   "id": "4375f0d2",
   "metadata": {},
   "outputs": [],
   "source": [
    "New_Dataframe= New_Dataframe[[\"Income\", \"Credit_card\",\"Inflation\",\"GDP\",\"Unemployment\",\"Year\",\"Interest_rate\"]]\n",
    "Head_Map_Data= New_Dataframe[[\"Income\", \"Credit_card\",\"Inflation\",\"GDP\",\"Unemployment\",\"Interest_rate\"]]"
   ]
  },
  {
   "cell_type": "code",
   "execution_count": null,
   "id": "5ef99ae1",
   "metadata": {},
   "outputs": [],
   "source": [
    "from datetime import datetime\n",
    "import seaborn as sns"
   ]
  },
  {
   "cell_type": "code",
   "execution_count": null,
   "id": "cfdcd41b",
   "metadata": {},
   "outputs": [],
   "source": [
    "interest.plot(x=\"Date\", y=[\"Interest_rate\"],figsize=(15, 8))\n",
    "plt.show()"
   ]
  },
  {
   "cell_type": "code",
   "execution_count": null,
   "id": "2b5985f9",
   "metadata": {},
   "outputs": [],
   "source": [
    "New_Dataframe.plot(x=\"Year\", y=[\"Interest_rate\"],figsize=(15, 8))\n",
    "plt.show()"
   ]
  },
  {
   "cell_type": "code",
   "execution_count": null,
   "id": "00f45892",
   "metadata": {},
   "outputs": [],
   "source": [
    "New_Dataframe.plot(x=\"Year\", y=[\"Unemployment\", \"Inflation\",\"Interest_rate\"],figsize=(15, 8))\n",
    "plt.show()"
   ]
  },
  {
   "cell_type": "code",
   "execution_count": null,
   "id": "2096ddab",
   "metadata": {},
   "outputs": [],
   "source": [
    "New_Dataframe.plot(x=\"Year\", y=[\"Credit_card\"],figsize=(15, 8))\n",
    "plt.show()"
   ]
  },
  {
   "cell_type": "code",
   "execution_count": null,
   "id": "fbdb634e",
   "metadata": {
    "scrolled": false
   },
   "outputs": [],
   "source": [
    "New_Dataframe.plot(x=\"Year\", y=[\"Income\"],figsize=(15, 8))\n",
    "plt.show()"
   ]
  },
  {
   "cell_type": "code",
   "execution_count": null,
   "id": "254650bc",
   "metadata": {},
   "outputs": [],
   "source": [
    "New_Dataframe['GDP']"
   ]
  },
  {
   "cell_type": "markdown",
   "id": "a3f66af7",
   "metadata": {},
   "source": [
    "#I tried to plot the correlation for the merged dataset(but it not taking the GDP,unemp, wage as varible)so I did the below process: \n",
    "\n",
    "\n",
    "cormat = New_Dataframe.corr()\n",
    "cormat"
   ]
  },
  {
   "cell_type": "code",
   "execution_count": null,
   "id": "fc7a5a5b",
   "metadata": {},
   "outputs": [],
   "source": [
    "# Correlation:\n",
    "cormat = Head_Map_Data.corr()\n",
    "cormat"
   ]
  },
  {
   "cell_type": "code",
   "execution_count": null,
   "id": "4a66effb",
   "metadata": {},
   "outputs": [],
   "source": [
    "import seaborn as sns\n",
    "sns.heatmap(cormat);"
   ]
  },
  {
   "cell_type": "code",
   "execution_count": null,
   "id": "b4474d22",
   "metadata": {},
   "outputs": [],
   "source": [
    "# trying to find the correlation:\n",
    "\n",
    "from pandas.plotting import scatter_matrix\n",
    "\n",
    "plot_cols = [ \"Interest_rate\",\n",
    "              \"Credit_card\",\n",
    "             \"Income\",\n",
    "             \"GDP\",\n",
    "             \"Unemployment\",\n",
    "             \"Inflation\"\n",
    "             ]\n",
    "## Create a scatter plot matric --- a pair-wise scatter plots \n",
    "\n",
    "def auto_pairs(plot_cols,New_Dataframe):\n",
    "    fig = plt.figure(1, figsize=(12, 12))\n",
    "    fig.clf()\n",
    "    ax = fig.gca()\n",
    "    scatter_matrix(New_Dataframe[plot_cols], diagonal='hist', ax = ax)\n",
    "    plt.show()\n",
    "    return('Done')\n",
    "auto_pairs(plot_cols, New_Dataframe)"
   ]
  },
  {
   "cell_type": "markdown",
   "id": "148a2cc0",
   "metadata": {},
   "source": [
    "# PCA"
   ]
  },
  {
   "cell_type": "markdown",
   "id": "14f3d698",
   "metadata": {},
   "source": [
    "# First method of PCA"
   ]
  },
  {
   "cell_type": "code",
   "execution_count": null,
   "id": "d9e163e0",
   "metadata": {},
   "outputs": [],
   "source": [
    "from sklearn.preprocessing  import MinMaxScaler\n",
    "from sklearn.decomposition import PCA\n",
    "from sklearn.preprocessing import StandardScaler"
   ]
  },
  {
   "cell_type": "code",
   "execution_count": null,
   "id": "b1f268a2",
   "metadata": {},
   "outputs": [],
   "source": [
    "X= (New_Dataframe.drop(['Year', 'Interest_rate','GDP'], axis=1))\n",
    "Y= New_Dataframe['Interest_rate']"
   ]
  },
  {
   "cell_type": "code",
   "execution_count": null,
   "id": "431f739b",
   "metadata": {},
   "outputs": [],
   "source": [
    "from sklearn.model_selection import train_test_split\n",
    "x_train,x_test,y_train,y_test= train_test_split(X,Y, random_state=0)"
   ]
  },
  {
   "cell_type": "code",
   "execution_count": null,
   "id": "f17b572b",
   "metadata": {},
   "outputs": [],
   "source": [
    "pca = PCA(n_components = 3)"
   ]
  },
  {
   "cell_type": "code",
   "execution_count": null,
   "id": "282190f5",
   "metadata": {},
   "outputs": [],
   "source": [
    "x = StandardScaler().fit_transform(x_train)"
   ]
  },
  {
   "cell_type": "code",
   "execution_count": null,
   "id": "5abeecba",
   "metadata": {},
   "outputs": [],
   "source": [
    "new_x= pd.DataFrame(data = pca.fit_transform(x), columns=['x1','x2','x3'])\n",
    "new_x"
   ]
  },
  {
   "cell_type": "code",
   "execution_count": null,
   "id": "ed6720fa",
   "metadata": {},
   "outputs": [],
   "source": [
    "#converting the Year column into float:\n",
    "\n",
    "New_Dataframe['Year'] = pd.to_numeric(New_Dataframe['Year'], errors='coerce')"
   ]
  },
  {
   "cell_type": "code",
   "execution_count": null,
   "id": "e84349ec",
   "metadata": {},
   "outputs": [],
   "source": [
    "#find the variance after the PCA:\n",
    "\n",
    "print(pca.explained_variance_ratio_)"
   ]
  },
  {
   "cell_type": "markdown",
   "id": "5b01752f",
   "metadata": {},
   "source": [
    "centered_matrix = X - X.mean(axis=1)[:, np.newaxis]\n",
    "cov = np.dot(centered_matrix, centered_matrix.T)\n",
    "eigvals, eigvecs = np.linalg.eig(cov)"
   ]
  },
  {
   "cell_type": "code",
   "execution_count": null,
   "id": "3c75f4d2",
   "metadata": {},
   "outputs": [],
   "source": [
    "# Concet the credit card with PCA Dataframe:\n",
    "\n",
    "#pca_Dataframe = pd.concat([new_x,New_Dataframe['Credit_card']], axis=1)\n",
    "#pca_Dataframe"
   ]
  },
  {
   "cell_type": "markdown",
   "id": "fddffbe8",
   "metadata": {},
   "source": [
    "# Another method of PCA"
   ]
  },
  {
   "cell_type": "code",
   "execution_count": null,
   "id": "5e2616e8",
   "metadata": {},
   "outputs": [],
   "source": [
    "scaler = StandardScaler()\n",
    "scaler.fit(New_Dataframe.drop(['Year', 'Interest_rate','GDP'], axis=1))"
   ]
  },
  {
   "cell_type": "code",
   "execution_count": null,
   "id": "39aa1ae4",
   "metadata": {},
   "outputs": [],
   "source": [
    "scaler_data = scaler.transform(New_Dataframe.drop(['Year', 'Interest_rate','GDP'], axis=1))\n",
    "scaler_data"
   ]
  },
  {
   "cell_type": "code",
   "execution_count": null,
   "id": "cbb32f81",
   "metadata": {},
   "outputs": [],
   "source": [
    "from sklearn.decomposition import PCA"
   ]
  },
  {
   "cell_type": "code",
   "execution_count": null,
   "id": "5d2705ee",
   "metadata": {},
   "outputs": [],
   "source": [
    "pca = PCA(n_components = 3)"
   ]
  },
  {
   "cell_type": "code",
   "execution_count": null,
   "id": "c7289523",
   "metadata": {},
   "outputs": [],
   "source": [
    "pca.fit(scaler_data)"
   ]
  },
  {
   "cell_type": "code",
   "execution_count": null,
   "id": "c6c7ae4e",
   "metadata": {},
   "outputs": [],
   "source": [
    "x_pca = pca.transform(scaler_data) "
   ]
  },
  {
   "cell_type": "code",
   "execution_count": null,
   "id": "27744f50",
   "metadata": {},
   "outputs": [],
   "source": [
    "x_pca"
   ]
  },
  {
   "cell_type": "code",
   "execution_count": null,
   "id": "b0a1060c",
   "metadata": {},
   "outputs": [],
   "source": [
    "print(pca.explained_variance_ratio_)"
   ]
  },
  {
   "cell_type": "code",
   "execution_count": null,
   "id": "dea472d1",
   "metadata": {},
   "outputs": [],
   "source": [
    "second_PCA= pd.DataFrame(data = pca.fit_transform(x_pca), columns=['x1','x2','x3'])\n",
    "second_PCA"
   ]
  },
  {
   "cell_type": "code",
   "execution_count": null,
   "id": "4d203fc5",
   "metadata": {
    "scrolled": false
   },
   "outputs": [],
   "source": [
    "def add_one_at_last_digit(inp):\n",
    "    inp+=0.1\n",
    "    return round(inp,1)\n",
    "list_x=[]\n",
    "input_string = 2000\n",
    "init= 2000\n",
    "#print(len(second_PCA))\n",
    "for i in range(1,len(second_PCA)+1,1):\n",
    "    input_string = add_one_at_last_digit(input_string) \n",
    "    list_x.append(input_string)\n",
    "    #print(i)\n",
    "    if i%4 == 0:\n",
    "        init+=1\n",
    "        input_string = init\n",
    "second_PCA['Years']= list_x\n",
    "# extracted_col column from the New_Dataframe:\n",
    "extracted_col = New_Dataframe[\"Interest_rate\"]\n",
    "extracted_col\n",
    "second_PCA = second_PCA.join(extracted_col)\n",
    "second_PCA"
   ]
  },
  {
   "cell_type": "code",
   "execution_count": null,
   "id": "1ce2dda5",
   "metadata": {},
   "outputs": [],
   "source": [
    "plt.figure(figsize=(8,6)) \n",
    "plt.scatter(x_pca[:,0],x_pca[:,1],c=New_Dataframe['Interest_rate'])"
   ]
  },
  {
   "cell_type": "code",
   "execution_count": null,
   "id": "05be029b",
   "metadata": {},
   "outputs": [],
   "source": [
    "#Dummy import \n",
    "\n",
    "import seaborn as sns\n",
    "from scipy import stats\n",
    "import matplotlib.pyplot as plt\n",
    "\n",
    "import statsmodels.api as sm\n",
    "from statsmodels.stats import diagnostic as diag\n",
    "from statsmodels.stats.outliers_influence import variance_inflation_factor\n",
    "\n",
    "from sklearn.linear_model import LinearRegression\n",
    "from sklearn.model_selection import train_test_split\n",
    "from sklearn.metrics import mean_squared_error, r2_score, mean_absolute_error\n",
    "\n",
    "%matplotlib inline"
   ]
  },
  {
   "cell_type": "code",
   "execution_count": null,
   "id": "1f4f0bac",
   "metadata": {},
   "outputs": [],
   "source": [
    "# multi linear Regression :\n",
    "\n",
    "def multi_linear_regression(X,Y):\n",
    "    X_train,X_test,y_train,y_test= train_test_split(X,Y, random_state=0)\n",
    "    regression_model = LinearRegression()\n",
    "    regression_model.fit(X_train, y_train)\n",
    "    intercept = regression_model.intercept_\n",
    "    coefficent = regression_model.coef_\n",
    "    print('-'*100)\n",
    "    print(\"The intercept for our model is {:}\".format(intercept))\n",
    "    print('-'*100)\n",
    "    r2 = regression_model.score(X_test, y_test)\n",
    "    print('Predictive Accuracy(R-Squraed):',r2)\n",
    "    print('-'*100)\n",
    "    for coef in zip(X.columns, regression_model.coef_):\n",
    "        print(\"The Coefficient for {} is {:}\".format(coef[0],coef[1]))\n",
    "        print('-'*100)\n",
    "    y_predict = regression_model.predict(X_test)\n",
    "    pred_y_df = pd.DataFrame({'Actual value':y_test,'Predict value':y_predict, 'Difference':y_test-y_predict})\n",
    "    print(pred_y_df)\n",
    "    sns.regplot(x=\"Actual value\", y=\"Predict value\", data=pred_y_df);\n",
    "    print('-'*100)\n",
    "    from sklearn.metrics import mean_squared_error\n",
    "    rmse=mean_squared_error(y_predict,y_test)\n",
    "    print('MLR value:',rmse)"
   ]
  },
  {
   "cell_type": "code",
   "execution_count": null,
   "id": "a339ea48",
   "metadata": {
    "scrolled": false
   },
   "outputs": [],
   "source": [
    "#Predicted data applyed in MLR module \n",
    "X= ARIMA_PCA[{'x1','x2','x3'}]\n",
    "Y= ARIMA_PCA['Interest_rate_prediction']\n",
    "multi_linear_regression(X,Y)"
   ]
  },
  {
   "cell_type": "code",
   "execution_count": null,
   "id": "aa138ad4",
   "metadata": {
    "scrolled": false
   },
   "outputs": [],
   "source": [
    "# Back testing:\n",
    "\n",
    "X_main= second_PCA[{'x1','x2','x3','Years'}]\n",
    "Y_main= second_PCA[{'Interest_rate','Years'}]\n",
    "\n",
    "def X_y(X,Y,my_list):\n",
    "        for i in my_list:\n",
    "            X = X_main[X_main['Years'] <= i][{'x1','x2','x3'}]\n",
    "            Y = Y_main[Y_main['Years'] <=i]['Interest_rate']\n",
    "            multi_linear_regression(X,Y)\n",
    "        \n",
    "my_list =[2011]           \n",
    "X_y(X,Y,my_list)"
   ]
  },
  {
   "cell_type": "code",
   "execution_count": null,
   "id": "221c79a3",
   "metadata": {
    "scrolled": false
   },
   "outputs": [],
   "source": [
    "X= second_PCA[{'x1','x2','x3'}]\n",
    "Y= New_Dataframe['Interest_rate']\n",
    "multi_linear_regression(X,Y)"
   ]
  },
  {
   "cell_type": "code",
   "execution_count": null,
   "id": "62f20dbc",
   "metadata": {
    "scrolled": false
   },
   "outputs": [],
   "source": [
    "# trying to separate the row using the year column:\n",
    "\n",
    "#value = input(\"enter the Years\")\n",
    "rslt_df = second_PCA[second_PCA['Years'] < 2011] \n",
    "print(rslt_df)\n",
    "X= rslt_df[{'x1','x2'}]\n",
    "Y= rslt_df['Interest_rate']\n",
    "multi_linear_regression(X,Y)"
   ]
  },
  {
   "cell_type": "code",
   "execution_count": null,
   "id": "65be479f",
   "metadata": {},
   "outputs": [],
   "source": [
    "Var_Data = pd.read_csv('second_PCA.csv', parse_dates=['Date'], index_col='Date')\n",
    "Var_Data = Var_Data.rename(columns={'x1': 'PCA_X1'})\n",
    "Var_Data = Var_Data.rename(columns={'x2': 'PCA_X2'})\n",
    "Var_Data"
   ]
  },
  {
   "cell_type": "code",
   "execution_count": null,
   "id": "b821af29",
   "metadata": {},
   "outputs": [],
   "source": [
    "import statsmodels.api as sm\n",
    "from statsmodels.tsa.stattools import grangercausalitytests, adfuller\n",
    "from statsmodels.graphics.tsaplots import plot_acf, plot_pacf"
   ]
  },
  {
   "cell_type": "markdown",
   "id": "002360b7",
   "metadata": {},
   "source": [
    "# ADF AND ARIMA MODEL:"
   ]
  },
  {
   "cell_type": "code",
   "execution_count": null,
   "id": "f85b0900",
   "metadata": {},
   "outputs": [],
   "source": [
    "import statsmodels.api as sm\n",
    "from statsmodels.tsa.stattools import grangercausalitytests, adfuller\n",
    "from statsmodels.graphics.tsaplots import plot_acf, plot_pacf"
   ]
  },
  {
   "cell_type": "code",
   "execution_count": null,
   "id": "e0fe311b",
   "metadata": {},
   "outputs": [],
   "source": [
    "Var_Data = pd.read_csv('second_PCA.csv', parse_dates=['Date'], index_col='Date')\n",
    "Var_Data = Var_Data.rename(columns={'x1': 'PCA_X1'})\n",
    "Var_Data = Var_Data.rename(columns={'x2': 'PCA_X2'})\n",
    "Var_Data"
   ]
  },
  {
   "cell_type": "code",
   "execution_count": null,
   "id": "bf71ba7d",
   "metadata": {},
   "outputs": [],
   "source": [
    "def ad_fuller(dataset):\n",
    "    ad_fuller=adfuller(dataset.diff()[1:])\n",
    "    print(\"ADF analysis\\n\")\n",
    "    print(\"Statistic Test : \" , ad_fuller[0].round(2))\n",
    "    print(\"p-value : \" , ad_fuller[1])\n",
    "    print(\"# n_lags : \" , ad_fuller[2])\n",
    "    print(\"No of observation: \" , ad_fuller[3])\n",
    "    for key,value in ad_fuller[4].items():s\n",
    "        print(f\" critical value {key} : {value}\")"
   ]
  },
  {
   "cell_type": "code",
   "execution_count": null,
   "id": "564b26d7",
   "metadata": {},
   "outputs": [],
   "source": [
    "ad_fuller(Var_Data['Interest_rate'])"
   ]
  },
  {
   "cell_type": "code",
   "execution_count": null,
   "id": "da8c54f2",
   "metadata": {},
   "outputs": [],
   "source": [
    "ad_fuller(Var_Data['Interest_rate'])"
   ]
  },
  {
   "cell_type": "code",
   "execution_count": null,
   "id": "271830de",
   "metadata": {},
   "outputs": [],
   "source": [
    "#ARIMA model building\n",
    "\n",
    "\n",
    "from pmdarima import auto_arima\n",
    "import warnings\n",
    "warnings.filterwarnings('ignore')\n",
    "from statsmodels.tsa.arima_model import ARIMA\n",
    "\n",
    "stepwise_fit = auto_arima(Var_Data['Interest_rate'], trace= True, suppress_warning= True)\n",
    "\n",
    "stepwise_fit.summary()"
   ]
  },
  {
   "cell_type": "code",
   "execution_count": null,
   "id": "5a6fa525",
   "metadata": {},
   "outputs": [],
   "source": [
    "train_df = Var_Data['Interest_rate'][:71]\n",
    "test_df = Var_Data['Interest_rate'][70:]\n",
    "#print(test_df)\n",
    "print(test_df.shape,train_df.shape)"
   ]
  },
  {
   "cell_type": "code",
   "execution_count": null,
   "id": "59f9055b",
   "metadata": {},
   "outputs": [],
   "source": [
    "#ARIMA model building\n",
    "from statsmodels.tsa.arima_model import ARIMA\n",
    "Final = ARIMA(Var_Data['Interest_rate'], order=(1,0,1)).fit()\n",
    "pred1= Final.predict(start = len(Var_Data)-6, end = (len(Var_Data)+8))"
   ]
  },
  {
   "cell_type": "markdown",
   "id": "1c3c2fe0",
   "metadata": {},
   "source": [
    "from sklearn.metrics import r2_score\n",
    "print('R squared: {:.2f}'.format(r2_score(test_df,pred1)))"
   ]
  },
  {
   "cell_type": "code",
   "execution_count": null,
   "id": "d649be08",
   "metadata": {
    "scrolled": false
   },
   "outputs": [],
   "source": [
    "Var_Data['Interest_rate'].plot(legend= True,label = 'Interest_rate', figsize=(10,6))\n",
    "pred1.plot(legend= True,label = 'Predicted Interest_rate')"
   ]
  },
  {
   "cell_type": "code",
   "execution_count": null,
   "id": "21a9875f",
   "metadata": {},
   "outputs": [],
   "source": [
    "from sklearn.metrics import mean_squared_error\n",
    "#rmse=mean_squared_error(pred1,test_df)\n",
    "#print('ARIMA_rmse value:',rmse)"
   ]
  },
  {
   "cell_type": "code",
   "execution_count": null,
   "id": "d1e9f276",
   "metadata": {},
   "outputs": [],
   "source": [
    "#ARIMA model building\n",
    "from statsmodels.tsa.arima_model import ARIMA\n",
    "Final = ARIMA(Var_Data['Inflation'], order=(1,0,1)).fit()\n",
    "pred1= Final.predict(start = len(Var_Data)-6, end = (len(Var_Data)+8))\n",
    "Var_Data['Inflation'].plot(legend= True,label = 'Inflation', figsize=(10,6))\n",
    "pred1.plot(legend= True,label = 'Predicted Inflation')\n",
    "AIRMA_Dataframe = pd.DataFrame(pred1,columns = ['Inflation_pred'])\n",
    "AIRMA_Dataframe"
   ]
  },
  {
   "cell_type": "code",
   "execution_count": null,
   "id": "a557a382",
   "metadata": {},
   "outputs": [],
   "source": [
    "#ARIMA model building\n",
    "from statsmodels.tsa.arima_model import ARIMA\n",
    "Final = ARIMA(Var_Data['Credit_card'], order=(1,0,1)).fit()\n",
    "pred1= Final.predict(start = len(Var_Data)-6, end = (len(Var_Data)+8))\n",
    "Var_Data['Credit_card'].plot(legend= True,label = 'Credit_card', figsize=(10,6))\n",
    "pred1.plot(legend= True,label = 'Predicted credit_card')\n",
    "AIRMA_Dataframe['Credit_card_pred']=pred1\n",
    "AIRMA_Dataframe"
   ]
  },
  {
   "cell_type": "code",
   "execution_count": null,
   "id": "73c6d98c",
   "metadata": {},
   "outputs": [],
   "source": [
    "#ARIMA model building\n",
    "from statsmodels.tsa.arima_model import ARIMA\n",
    "Final = ARIMA(Var_Data['Unemployment'], order=(1,0,1)).fit()\n",
    "pred1= Final.predict(start = len(Var_Data)-6, end = (len(Var_Data)+8))\n",
    "Var_Data['Unemployment'].plot(legend= True,label = 'unemployment', figsize=(10,6))\n",
    "pred1.plot(legend= True,label = 'Predicted Unemployment')\n",
    "AIRMA_Dataframe['Unemployment_pred']=pred1\n",
    "AIRMA_Dataframe"
   ]
  },
  {
   "cell_type": "code",
   "execution_count": null,
   "id": "6cba66f3",
   "metadata": {},
   "outputs": [],
   "source": [
    "#ARIMA model building\n",
    "from statsmodels.tsa.arima_model import ARIMA\n",
    "Final = ARIMA(Var_Data['Income'], order=(1,0,0)).fit()\n",
    "pred1= Final.predict(start = len(Var_Data)-6, end = (len(Var_Data)+8))\n",
    "Var_Data['Income'].plot(legend= True,label = 'Income', figsize=(10,6))\n",
    "pred1.plot(legend= True,label = 'Predicted Income')\n",
    "AIRMA_Dataframe['Income_pred']=pred1\n",
    "AIRMA_Dataframe"
   ]
  },
  {
   "cell_type": "code",
   "execution_count": null,
   "id": "4c832e58",
   "metadata": {},
   "outputs": [],
   "source": [
    "#ARIMA model building\n",
    "from statsmodels.tsa.arima_model import ARIMA\n",
    "Final = ARIMA(Var_Data['Interest_rate'], order=(1,0,0)).fit()\n",
    "pred1= Final.predict(start = len(Var_Data)-6, end = (len(Var_Data)+8))\n",
    "Var_Data['Interest_rate'].plot(legend= True,label = 'Interest_rate', figsize=(10,6))\n",
    "pred1.plot(legend= True,label = 'Predicted Interest_rate')\n",
    "AIRMA_Dataframe['Interest_rate_prediction']=pred1\n",
    "AIRMA_Dataframe"
   ]
  },
  {
   "cell_type": "code",
   "execution_count": null,
   "id": "053fca64",
   "metadata": {},
   "outputs": [],
   "source": [
    "AIRMA_Dataframe.to_csv('AIRMA_Data.csv', index=False)"
   ]
  },
  {
   "cell_type": "code",
   "execution_count": null,
   "id": "5316a9c6",
   "metadata": {},
   "outputs": [],
   "source": [
    "scaler = StandardScaler()\n",
    "scaler.fit(AIRMA_Dataframe)\n",
    "scaler_data = scaler.transform(AIRMA_Dataframe)\n",
    "scaler_data\n",
    "pca = PCA(n_components = 3)\n",
    "pca.fit(scaler_data)\n",
    "x_pca = pca.transform(scaler_data) \n",
    "print(pca.explained_variance_ratio_)\n",
    "PCA_AIRMA= pd.DataFrame(data = pca.fit_transform(x_pca), columns=['x1','x2','x3'])\n",
    "PCA_AIRMA"
   ]
  },
  {
   "cell_type": "markdown",
   "id": "de278383",
   "metadata": {},
   "source": [
    "# AR model"
   ]
  },
  {
   "cell_type": "markdown",
   "id": "33ccce2f",
   "metadata": {},
   "source": [
    "from statsmodels.tsa.ar_model import AutoReg\n",
    "\n",
    "train_data = New_Dataframe['Interest_rate'][:-12]\n",
    "test_data = New_Dataframe['Interest_rate'][-12:]\n",
    "ar_model = AutoReg(train_data, lags=8).fit()\n",
    "print(ar_model.summary())"
   ]
  },
  {
   "cell_type": "markdown",
   "id": "a588f2cc",
   "metadata": {},
   "source": [
    "pred = ar_model.predict(start=len(train_data), end=(len(New_Dataframe)-1), dynamic=False)\n",
    "\n",
    "from matplotlib import pyplot\n",
    "pyplot.plot(pred, color='blue')\n",
    "pyplot.plot(test_data, color='red')"
   ]
  },
  {
   "cell_type": "markdown",
   "id": "38f4942c",
   "metadata": {},
   "source": [
    "# VAR MODEL"
   ]
  },
  {
   "cell_type": "code",
   "execution_count": null,
   "id": "e3141318",
   "metadata": {},
   "outputs": [],
   "source": [
    "Var_Data = pd.read_csv('second_PCA.csv', parse_dates=['Date'], index_col='Date')\n",
    "#Var_Data = Var_Data.rename(columns={'x1': 'PCA_X1'})\n",
    "#Var_Data = Var_Data.rename(columns={'x2': 'PCA_X2'})\n",
    "Var_Data"
   ]
  },
  {
   "cell_type": "code",
   "execution_count": null,
   "id": "525ee09f",
   "metadata": {},
   "outputs": [],
   "source": [
    "ad_fuller(Var_Data['Interest_rate'])"
   ]
  },
  {
   "cell_type": "markdown",
   "id": "b814e725",
   "metadata": {},
   "source": [
    "print('rgnp causes ulc?\\n')\n",
    "print('------------------')\n",
    "granger_1 = grangercausalitytests( Var_Data[{'Interest_rate','Credit_card','Inflation','Income','Unemployment'}], 24)\n",
    "#granger_1 = grangercausalitytests( Var_Data[{'PCA_X1','Interest_rate'}], 24)"
   ]
  },
  {
   "cell_type": "code",
   "execution_count": null,
   "id": "8c4c1a32",
   "metadata": {},
   "outputs": [],
   "source": [
    "from statsmodels.tsa.statespace.varmax import VARMAX\n",
    "from statsmodels.tsa.api import VAR\n",
    "train_df= Var_Data[{'Interest_rate','Inflation'}][:-6]  \n",
    "test_df = Var_Data[{'Interest_rate','Inflation'}][-6:]\n",
    "model = VAR(train_df.diff()[1:])"
   ]
  },
  {
   "cell_type": "code",
   "execution_count": null,
   "id": "21052aa4",
   "metadata": {},
   "outputs": [],
   "source": [
    "#(corelation and p value)\n",
    "from scipy.stats import pearsonr\n",
    "for lag in range(1, 14):\n",
    "    heater_series = Var_Data['Interest_rate'].iloc[lag:]\n",
    "    lagged_ice_cream_series = Var_Data['Inflation'].iloc[:-lag]\n",
    "    print('Lag: %s'%lag)\n",
    "    print(pearsonr(heater_series, lagged_ice_cream_series))\n",
    "    print('----') "
   ]
  },
  {
   "cell_type": "markdown",
   "id": "3d91be2a",
   "metadata": {},
   "source": [
    "sorted_order=model.select_order(maxlags=20)\n",
    "print(sorted_order.summary())"
   ]
  },
  {
   "cell_type": "code",
   "execution_count": null,
   "id": "c085bdae",
   "metadata": {},
   "outputs": [],
   "source": [
    "var_model = VARMAX(train_df, order=(4,0),enforce_stationarity= True)\n",
    "fitted_model = var_model.fit(disp=False)\n",
    "print(fitted_model.summary())"
   ]
  },
  {
   "cell_type": "code",
   "execution_count": null,
   "id": "3cd87a63",
   "metadata": {},
   "outputs": [],
   "source": [
    "n_forecast = 6\n",
    "predict = fitted_model.get_prediction(start=len(train_df),end=len(train_df) + n_forecast-1)#start=\"1989-07-01\",end='1999-01-01')\n",
    "print(predict)\n",
    "predictions=predict.predicted_mean\n",
    "print(predictions)"
   ]
  },
  {
   "cell_type": "code",
   "execution_count": null,
   "id": "ba6eb034",
   "metadata": {},
   "outputs": [],
   "source": [
    "predictions.columns=['Inflation_Pred','Interest_rate_pred']\n",
    "predictions"
   ]
  },
  {
   "cell_type": "code",
   "execution_count": null,
   "id": "57b42794",
   "metadata": {},
   "outputs": [],
   "source": [
    "test_vs_pred=pd.concat([test_df,predictions],axis=1)\n",
    "#test_vs_pred= pd.concat([test_vs_pred, train_df])\n",
    "print(test_vs_pred)\n",
    "#test_vs_pred= (test_vs_pred.drop(['Credit_card', 'Credit_card_pred'], axis=1))\n",
    "#print(test_vs_pred)"
   ]
  },
  {
   "cell_type": "code",
   "execution_count": null,
   "id": "93876e06",
   "metadata": {},
   "outputs": [],
   "source": [
    "from sklearn.metrics import r2_score\n",
    "print('R squared: {:.2f}'.format(r2_score(test_df['Interest_rate'],predictions['Interest_rate_pred'])))\n",
    "#print(len(test_df['Interest_rate']))\n",
    "#print(len(predictions['Interest_rate_pred']))"
   ]
  },
  {
   "cell_type": "code",
   "execution_count": null,
   "id": "d0269074",
   "metadata": {},
   "outputs": [],
   "source": [
    "train_df['Interest_rate'].plot(legend= True,label = 'Train Interest_rate')\n",
    "test_df['Interest_rate'].plot(legend= True,label = 'Test Interest_rate')\n",
    "predictions['Interest_rate_pred'].plot(legend= True,label = 'Predicted Interest_rate')"
   ]
  },
  {
   "cell_type": "code",
   "execution_count": null,
   "id": "5d11d512",
   "metadata": {},
   "outputs": [],
   "source": [
    "train_df['Interest_rate'].plot()\n",
    "test_df['Interest_rate'].plot()\n",
    "predictions['Interest_rate_pred'].plot()"
   ]
  },
  {
   "cell_type": "markdown",
   "id": "e5060f04",
   "metadata": {},
   "source": [
    "from sklearn import metrics\n",
    "fpr, tpr, _ = metrics.roc_curve(test_df,  predictions)"
   ]
  },
  {
   "cell_type": "code",
   "execution_count": null,
   "id": "a0e8e18e",
   "metadata": {},
   "outputs": [],
   "source": [
    "test_vs_pred.plot(figsize=(12,5))\n",
    "train_df.plot()"
   ]
  },
  {
   "cell_type": "code",
   "execution_count": null,
   "id": "2b46b5e2",
   "metadata": {},
   "outputs": [],
   "source": []
  },
  {
   "cell_type": "code",
   "execution_count": null,
   "id": "3e385c61",
   "metadata": {},
   "outputs": [],
   "source": []
  },
  {
   "cell_type": "code",
   "execution_count": null,
   "id": "15ad6f56",
   "metadata": {},
   "outputs": [],
   "source": []
  }
 ],
 "metadata": {
  "kernelspec": {
   "display_name": "Python 3",
   "language": "python",
   "name": "python3"
  },
  "language_info": {
   "codemirror_mode": {
    "name": "ipython",
    "version": 3
   },
   "file_extension": ".py",
   "mimetype": "text/x-python",
   "name": "python",
   "nbconvert_exporter": "python",
   "pygments_lexer": "ipython3",
   "version": "3.8.8"
  }
 },
 "nbformat": 4,
 "nbformat_minor": 5
}
